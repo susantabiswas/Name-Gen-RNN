{
  "nbformat": 4,
  "nbformat_minor": 0,
  "metadata": {
    "colab": {
      "name": "Name Generator.ipynb",
      "version": "0.3.2",
      "views": {},
      "default_view": {},
      "provenance": [],
      "collapsed_sections": []
    },
    "kernelspec": {
      "name": "python3",
      "display_name": "Python 3"
    },
    "accelerator": "GPU"
  },
  "cells": [
    {
      "metadata": {
        "id": "ad9aSr3A6rnx",
        "colab_type": "code",
        "colab": {
          "autoexec": {
            "startup": false,
            "wait_interval": 0
          },
          "base_uri": "https://localhost:8080/",
          "height": 112
        },
        "outputId": "9f0211fc-945f-4c90-b732-9f4f210b76b0",
        "executionInfo": {
          "status": "ok",
          "timestamp": 1530238163968,
          "user_tz": -330,
          "elapsed": 18291,
          "user": {
            "displayName": "Susanta Biswas",
            "photoUrl": "//lh4.googleusercontent.com/-yoEv-8bwEKc/AAAAAAAAAAI/AAAAAAAAAAo/EHyV9CKwDzY/s50-c-k-no/photo.jpg",
            "userId": "101556937833327431006"
          }
        }
      },
      "cell_type": "code",
      "source": [
        "!apt-get install -y -qq software-properties-common python-software-properties module-init-tools\n",
        "!add-apt-repository -y ppa:alessandro-strada/ppa 2>&1 > /dev/null\n",
        "!apt-get update -qq 2>&1 > /dev/null\n",
        "!apt-get -y install -qq google-drive-ocamlfuse fuse\n",
        "from google.colab import auth\n",
        "auth.authenticate_user()\n",
        "from oauth2client.client import GoogleCredentials\n",
        "creds = GoogleCredentials.get_application_default()\n",
        "import getpass\n",
        "!google-drive-ocamlfuse -headless -id={creds.client_id} -secret={creds.client_secret} < /dev/null 2>&1 | grep URL\n",
        "vcode = getpass.getpass()\n",
        "!echo {vcode} | google-drive-ocamlfuse -headless -id={creds.client_id} -secret={creds.client_secret}"
      ],
      "execution_count": 1,
      "outputs": [
        {
          "output_type": "stream",
          "text": [
            "Please, open the following URL in a web browser: https://accounts.google.com/o/oauth2/auth?client_id=32555940559.apps.googleusercontent.com&redirect_uri=urn%3Aietf%3Awg%3Aoauth%3A2.0%3Aoob&scope=https%3A%2F%2Fwww.googleapis.com%2Fauth%2Fdrive&response_type=code&access_type=offline&approval_prompt=force\r\n",
            "··········\n",
            "Please, open the following URL in a web browser: https://accounts.google.com/o/oauth2/auth?client_id=32555940559.apps.googleusercontent.com&redirect_uri=urn%3Aietf%3Awg%3Aoauth%3A2.0%3Aoob&scope=https%3A%2F%2Fwww.googleapis.com%2Fauth%2Fdrive&response_type=code&access_type=offline&approval_prompt=force\n",
            "Please enter the verification code: Access token retrieved correctly.\n"
          ],
          "name": "stdout"
        }
      ]
    },
    {
      "metadata": {
        "id": "kL7CS_rR60Ta",
        "colab_type": "code",
        "colab": {
          "autoexec": {
            "startup": false,
            "wait_interval": 0
          }
        }
      },
      "cell_type": "code",
      "source": [
        "!mkdir -p drive\n",
        "!google-drive-ocamlfuse drive"
      ],
      "execution_count": 0,
      "outputs": []
    },
    {
      "metadata": {
        "id": "H2hdwdqZ7BaX",
        "colab_type": "code",
        "colab": {
          "autoexec": {
            "startup": false,
            "wait_interval": 0
          },
          "base_uri": "https://localhost:8080/",
          "height": 111
        },
        "outputId": "3734601c-77a4-46ea-dad2-dcf1adfcb3ad",
        "executionInfo": {
          "status": "ok",
          "timestamp": 1530238321287,
          "user_tz": -330,
          "elapsed": 3385,
          "user": {
            "displayName": "Susanta Biswas",
            "photoUrl": "//lh4.googleusercontent.com/-yoEv-8bwEKc/AAAAAAAAAAI/AAAAAAAAAAo/EHyV9CKwDzY/s50-c-k-no/photo.jpg",
            "userId": "101556937833327431006"
          }
        }
      },
      "cell_type": "code",
      "source": [
        "!pip install tqdm\n"
      ],
      "execution_count": 3,
      "outputs": [
        {
          "output_type": "stream",
          "text": [
            "Collecting tqdm\n",
            "\u001b[?25l  Downloading https://files.pythonhosted.org/packages/93/24/6ab1df969db228aed36a648a8959d1027099ce45fad67532b9673d533318/tqdm-4.23.4-py2.py3-none-any.whl (42kB)\n",
            "\u001b[K    100% |████████████████████████████████| 51kB 2.3MB/s \n",
            "\u001b[?25hInstalling collected packages: tqdm\n",
            "Successfully installed tqdm-4.23.4\n"
          ],
          "name": "stdout"
        }
      ]
    },
    {
      "metadata": {
        "id": "xMKZ2op-8__1",
        "colab_type": "text"
      },
      "cell_type": "markdown",
      "source": [
        "# Name Generation using RNN\n",
        "We will generate new names for people using RNN"
      ]
    },
    {
      "metadata": {
        "id": "cM5QcVU39HMX",
        "colab_type": "code",
        "colab": {
          "autoexec": {
            "startup": false,
            "wait_interval": 0
          }
        }
      },
      "cell_type": "code",
      "source": [
        "import tensorflow as tf\n",
        "from numpy.random import shuffle\n",
        "import numpy as np\n",
        "import matplotlib.pyplot as plt\n",
        "import pandas as pd\n",
        "from tqdm import tqdm\n",
        "from sklearn.model_selection import train_test_split\n"
      ],
      "execution_count": 0,
      "outputs": []
    },
    {
      "metadata": {
        "id": "e4yxpDtx9tq7",
        "colab_type": "text"
      },
      "cell_type": "markdown",
      "source": [
        "##  Data loading"
      ]
    },
    {
      "metadata": {
        "id": "443q_yW79aKI",
        "colab_type": "code",
        "colab": {
          "autoexec": {
            "startup": false,
            "wait_interval": 0
          }
        }
      },
      "cell_type": "code",
      "source": [
        "# for loading data\n",
        "def load_data(filename):\n",
        "    with open(filename, 'r') as f:\n",
        "        data = f.read().lower().split('\\n')\n",
        "    return np.array(data)"
      ],
      "execution_count": 0,
      "outputs": []
    },
    {
      "metadata": {
        "id": "EK99gahE-AKi",
        "colab_type": "code",
        "colab": {
          "autoexec": {
            "startup": false,
            "wait_interval": 0
          },
          "base_uri": "https://localhost:8080/",
          "height": 36
        },
        "outputId": "63cfdb4d-1d83-496d-dec9-d1ca8ee1fd7b",
        "executionInfo": {
          "status": "ok",
          "timestamp": 1530253300369,
          "user_tz": -330,
          "elapsed": 2213,
          "user": {
            "displayName": "Susanta Biswas",
            "photoUrl": "//lh4.googleusercontent.com/-yoEv-8bwEKc/AAAAAAAAAAI/AAAAAAAAAAo/EHyV9CKwDzY/s50-c-k-no/photo.jpg",
            "userId": "101556937833327431006"
          }
        }
      },
      "cell_type": "code",
      "source": [
        "data = load_data('drive/Colab Notebooks/name_list.txt')\n",
        "print('No. of names: ' + str(len(data)))"
      ],
      "execution_count": 429,
      "outputs": [
        {
          "output_type": "stream",
          "text": [
            "No. of names: 4095\n"
          ],
          "name": "stdout"
        }
      ]
    },
    {
      "metadata": {
        "id": "yXZwdCE-c19D",
        "colab_type": "text"
      },
      "cell_type": "markdown",
      "source": [
        "Split data into training and validation set"
      ]
    },
    {
      "metadata": {
        "id": "MVtv_zQ7cz9M",
        "colab_type": "code",
        "colab": {
          "autoexec": {
            "startup": false,
            "wait_interval": 0
          },
          "base_uri": "https://localhost:8080/",
          "height": 55
        },
        "outputId": "309db46f-a97f-4a69-f038-1d8a5633eeb7",
        "executionInfo": {
          "status": "ok",
          "timestamp": 1530253303308,
          "user_tz": -330,
          "elapsed": 757,
          "user": {
            "displayName": "Susanta Biswas",
            "photoUrl": "//lh4.googleusercontent.com/-yoEv-8bwEKc/AAAAAAAAAAI/AAAAAAAAAAo/EHyV9CKwDzY/s50-c-k-no/photo.jpg",
            "userId": "101556937833327431006"
          }
        }
      },
      "cell_type": "code",
      "source": [
        "# split data\n",
        "train_data, val_data = train_test_split(data, test_size=0.05)\n",
        "print(len(train_data))\n",
        "print(len(val_data))"
      ],
      "execution_count": 430,
      "outputs": [
        {
          "output_type": "stream",
          "text": [
            "3890\n",
            "205\n"
          ],
          "name": "stdout"
        }
      ]
    },
    {
      "metadata": {
        "id": "BzX9VyBzTw4P",
        "colab_type": "text"
      },
      "cell_type": "markdown",
      "source": [
        "## Text Processing\n",
        "We will use a character level model for this task. So first we will create a vocabulary dictionary. Since this is a character level model so the only the vocabulary size is fixed. "
      ]
    },
    {
      "metadata": {
        "id": "dHXpk2zuTfei",
        "colab_type": "code",
        "colab": {
          "autoexec": {
            "startup": false,
            "wait_interval": 0
          },
          "base_uri": "https://localhost:8080/",
          "height": 36
        },
        "outputId": "c78ae952-619b-4df4-d968-57f1eea33856",
        "executionInfo": {
          "status": "ok",
          "timestamp": 1530253305503,
          "user_tz": -330,
          "elapsed": 1070,
          "user": {
            "displayName": "Susanta Biswas",
            "photoUrl": "//lh4.googleusercontent.com/-yoEv-8bwEKc/AAAAAAAAAAI/AAAAAAAAAAo/EHyV9CKwDzY/s50-c-k-no/photo.jpg",
            "userId": "101556937833327431006"
          }
        }
      },
      "cell_type": "code",
      "source": [
        "# find the unique characters for the vocabulary\n",
        "#  Here '#' means End of Sentence\n",
        "vocab_tokens = ['#'] + list(set(''.join(data)))\n",
        "vocab_tokens_len = len(vocab_tokens)\n",
        "print(vocab_tokens_len)"
      ],
      "execution_count": 431,
      "outputs": [
        {
          "output_type": "stream",
          "text": [
            "29\n"
          ],
          "name": "stdout"
        }
      ]
    },
    {
      "metadata": {
        "id": "RGmouiWVVUtX",
        "colab_type": "code",
        "colab": {
          "autoexec": {
            "startup": false,
            "wait_interval": 0
          },
          "base_uri": "https://localhost:8080/",
          "height": 36
        },
        "outputId": "f494283d-4364-4da6-95de-77b0e9f4e1df",
        "executionInfo": {
          "status": "ok",
          "timestamp": 1530253306825,
          "user_tz": -330,
          "elapsed": 1020,
          "user": {
            "displayName": "Susanta Biswas",
            "photoUrl": "//lh4.googleusercontent.com/-yoEv-8bwEKc/AAAAAAAAAAI/AAAAAAAAAAo/EHyV9CKwDzY/s50-c-k-no/photo.jpg",
            "userId": "101556937833327431006"
          }
        }
      },
      "cell_type": "code",
      "source": [
        "# find the max length amongst names\n",
        "max_name_len = max(len(name) for name in train_data)\n",
        "print('Max length: ', max_name_len)"
      ],
      "execution_count": 432,
      "outputs": [
        {
          "output_type": "stream",
          "text": [
            "Max length:  15\n"
          ],
          "name": "stdout"
        }
      ]
    },
    {
      "metadata": {
        "id": "A8R8xAmGYnSO",
        "colab_type": "text"
      },
      "cell_type": "markdown",
      "source": [
        "For training the model we need to represent the string characters in terms of numbers. For that we will create a dictionary mapping of characters and numerical indices and vice-versa."
      ]
    },
    {
      "metadata": {
        "id": "zg5X_7SXXuoY",
        "colab_type": "code",
        "colab": {
          "autoexec": {
            "startup": false,
            "wait_interval": 0
          },
          "base_uri": "https://localhost:8080/",
          "height": 169
        },
        "outputId": "68780e03-ea71-41e1-be69-319778466fbe",
        "executionInfo": {
          "status": "ok",
          "timestamp": 1530253308376,
          "user_tz": -330,
          "elapsed": 825,
          "user": {
            "displayName": "Susanta Biswas",
            "photoUrl": "//lh4.googleusercontent.com/-yoEv-8bwEKc/AAAAAAAAAAI/AAAAAAAAAAo/EHyV9CKwDzY/s50-c-k-no/photo.jpg",
            "userId": "101556937833327431006"
          }
        }
      },
      "cell_type": "code",
      "source": [
        "# create vocabulary dict \n",
        "# character to index\n",
        "ch_to_idx = {ch:idx for idx, ch in tqdm(enumerate(vocab_tokens))}\n",
        "print('\\nDict len: ', len(ch_to_idx))\n",
        "print(ch_to_idx)\n",
        "\n",
        "# index to chracter\n",
        "idx_to_ch = {ch_to_idx[ch]:ch for ch in ch_to_idx.keys()}\n",
        "print('\\nDict len: ', len(idx_to_ch))\n",
        "print(idx_to_ch)"
      ],
      "execution_count": 433,
      "outputs": [
        {
          "output_type": "stream",
          "text": [
            "29it [00:00, 64527.75it/s]"
          ],
          "name": "stderr"
        },
        {
          "output_type": "stream",
          "text": [
            "\n",
            "Dict len:  29\n",
            "{'#': 0, 'y': 1, 'm': 2, 'z': 3, 'a': 4, 'u': 5, 'n': 6, 'g': 7, 'h': 8, 'r': 9, 'l': 10, 's': 11, 'k': 12, 'o': 13, ';': 14, 'b': 15, 'f': 16, 'p': 17, 'e': 18, 'w': 19, 'q': 20, 'c': 21, '(': 22, 'x': 23, 'i': 24, 'v': 25, 'j': 26, 'd': 27, 't': 28}\n",
            "\n",
            "Dict len:  29\n",
            "{0: '#', 1: 'y', 2: 'm', 3: 'z', 4: 'a', 5: 'u', 6: 'n', 7: 'g', 8: 'h', 9: 'r', 10: 'l', 11: 's', 12: 'k', 13: 'o', 14: ';', 15: 'b', 16: 'f', 17: 'p', 18: 'e', 19: 'w', 20: 'q', 21: 'c', 22: '(', 23: 'x', 24: 'i', 25: 'v', 26: 'j', 27: 'd', 28: 't'}\n"
          ],
          "name": "stdout"
        },
        {
          "output_type": "stream",
          "text": [
            "\n"
          ],
          "name": "stderr"
        }
      ]
    },
    {
      "metadata": {
        "id": "Avryng4jZkVg",
        "colab_type": "code",
        "colab": {
          "autoexec": {
            "startup": false,
            "wait_interval": 0
          }
        }
      },
      "cell_type": "code",
      "source": [
        "# for converting string names to matrix representation consisting of numerical indices\n",
        "# output shape: (m, Tx)\n",
        "def to_num_matrix(names, ch_to_idx):\n",
        "    \n",
        "    max_len = max(map(len, names))\n",
        "    names_idx = np.zeros((len(names), max_len), dtype='int32')\n",
        "        \n",
        "    for i, name in enumerate(names):\n",
        "        for j, ch in enumerate(name):\n",
        "            names_idx[i][j] = ch_to_idx[ch]\n",
        "        \n",
        "    return names_idx"
      ],
      "execution_count": 0,
      "outputs": []
    },
    {
      "metadata": {
        "id": "scRd9ClObP8E",
        "colab_type": "code",
        "colab": {
          "autoexec": {
            "startup": false,
            "wait_interval": 0
          },
          "base_uri": "https://localhost:8080/",
          "height": 36
        },
        "outputId": "f73a76b9-a05c-4dfb-f425-1e786a18dcc2",
        "executionInfo": {
          "status": "ok",
          "timestamp": 1530253311890,
          "user_tz": -330,
          "elapsed": 864,
          "user": {
            "displayName": "Susanta Biswas",
            "photoUrl": "//lh4.googleusercontent.com/-yoEv-8bwEKc/AAAAAAAAAAI/AAAAAAAAAAo/EHyV9CKwDzY/s50-c-k-no/photo.jpg",
            "userId": "101556937833327431006"
          }
        }
      },
      "cell_type": "code",
      "source": [
        "to_num_matrix(train_data, ch_to_idx).shape"
      ],
      "execution_count": 435,
      "outputs": [
        {
          "output_type": "execute_result",
          "data": {
            "text/plain": [
              "(3890, 15)"
            ]
          },
          "metadata": {
            "tags": []
          },
          "execution_count": 435
        }
      ]
    },
    {
      "metadata": {
        "id": "WdvYAu9sp3dA",
        "colab_type": "text"
      },
      "cell_type": "markdown",
      "source": [
        "## Training\n",
        "This is a simple model using Vanilla Recurrent units."
      ]
    },
    {
      "metadata": {
        "id": "BuPJPvBx9CBR",
        "colab_type": "code",
        "colab": {
          "autoexec": {
            "startup": false,
            "wait_interval": 0
          }
        }
      },
      "cell_type": "code",
      "source": [
        "from IPython.display import clear_output\n",
        "from random import sample\n",
        "import pickle\n",
        "import sys"
      ],
      "execution_count": 0,
      "outputs": []
    },
    {
      "metadata": {
        "id": "zTXi_bT9cp8x",
        "colab_type": "code",
        "colab": {
          "autoexec": {
            "startup": false,
            "wait_interval": 0
          }
        }
      },
      "cell_type": "code",
      "source": [
        "from keras.layers import Embedding, Dense, Concatenate\n",
        "import keras\n",
        "import keras.layers as L\n",
        "from keras.utils import to_categorical\n",
        "from keras.callbacks import LambdaCallback, ModelCheckpoint\n",
        "from keras.models import Sequential, load_model"
      ],
      "execution_count": 0,
      "outputs": []
    },
    {
      "metadata": {
        "id": "OwrqLyd9ZVpG",
        "colab_type": "code",
        "colab": {
          "autoexec": {
            "startup": false,
            "wait_interval": 0
          }
        }
      },
      "cell_type": "code",
      "source": [
        "# for finding the validation accuracy\n",
        "def compute_acc():\n",
        "    # convert validation data\n",
        "    val_x = to_num_matrix(val_data, ch_to_idx)\n",
        "    # validation labels\n",
        "    val_y = np.copy(val_x[:,1:])\n",
        "    \n",
        "    # leave the last character\n",
        "    pred = model.predict(val_x[:,:-1], batch_size=256, verbose=1)\n",
        "    pred_ch = pred.argmax(axis=-1)\n",
        "    \n",
        "    # find acc\n",
        "    return float(np.sum(np.logical_and((pred_ch!=0), (pred_ch == val_y)))) \\\n",
        "                / np.sum(val_y != 0)"
      ],
      "execution_count": 0,
      "outputs": []
    },
    {
      "metadata": {
        "id": "1zfsFOeEcMd4",
        "colab_type": "code",
        "colab": {
          "autoexec": {
            "startup": false,
            "wait_interval": 0
          }
        }
      },
      "cell_type": "code",
      "source": [
        "# custom callback\n",
        "def acc_on_epoch_end(epoch, logs):\n",
        "    sys.stdout.flush()\n",
        "    print('\\nValidation Accuracy: ' + str(compute_acc()*100) + ' %')\n",
        "    sys.stdout.flush()"
      ],
      "execution_count": 0,
      "outputs": []
    },
    {
      "metadata": {
        "id": "xDRj3FFPcfDD",
        "colab_type": "code",
        "colab": {
          "autoexec": {
            "startup": false,
            "wait_interval": 0
          }
        }
      },
      "cell_type": "code",
      "source": [
        "# for generating batches\n",
        "def generate_model_batches(names, batch_size=32, pad=0):\n",
        "    # no. of training examples\n",
        "    m = np.arange(len(names))\n",
        "    \n",
        "    while True:\n",
        "        # get a shuffled index list\n",
        "        idx = np.random.permutation(m)\n",
        "        \n",
        "        # start yeilding batches\n",
        "        for start in range(0, len(idx)-1, batch_size):\n",
        "            batch_idx = idx[start:start+batch_size]\n",
        "            batch_words = []\n",
        "            \n",
        "            # take out the words and tags from 'batch_size' no. of training examples\n",
        "            for index in batch_idx:\n",
        "                batch_words.append(names[index])\n",
        "            \n",
        "            # input x\n",
        "            batch_x = to_num_matrix(batch_words, ch_to_idx)\n",
        "            \n",
        "            # output labels \n",
        "            batch_y_ohe = to_categorical(batch_x[:,1:], len(vocab_tokens))\n",
        "            yield batch_x[:,:-1], batch_y_ohe"
      ],
      "execution_count": 0,
      "outputs": []
    },
    {
      "metadata": {
        "id": "9_I6tQzOW2Oy",
        "colab_type": "text"
      },
      "cell_type": "markdown",
      "source": [
        "## Model"
      ]
    },
    {
      "metadata": {
        "id": "xPucu1H9fT88",
        "colab_type": "code",
        "colab": {
          "autoexec": {
            "startup": false,
            "wait_interval": 0
          }
        }
      },
      "cell_type": "code",
      "source": [
        "acc_callback = LambdaCallback(on_epoch_end=acc_on_epoch_end)\n",
        "checkpoint = ModelCheckpoint('drive/Colab Notebooks/best_weights.h5', verbose=1, save_best_only=True)"
      ],
      "execution_count": 0,
      "outputs": []
    },
    {
      "metadata": {
        "id": "fyGnDE78WL9m",
        "colab_type": "code",
        "colab": {
          "autoexec": {
            "startup": false,
            "wait_interval": 0
          },
          "base_uri": "https://localhost:8080/",
          "height": 375
        },
        "outputId": "db15c54e-79b7-4b7e-98b1-0ee64fa4d39a",
        "executionInfo": {
          "status": "ok",
          "timestamp": 1530254043744,
          "user_tz": -330,
          "elapsed": 1527,
          "user": {
            "displayName": "Susanta Biswas",
            "photoUrl": "//lh4.googleusercontent.com/-yoEv-8bwEKc/AAAAAAAAAAI/AAAAAAAAAAo/EHyV9CKwDzY/s50-c-k-no/photo.jpg",
            "userId": "101556937833327431006"
          }
        }
      },
      "cell_type": "code",
      "source": [
        "model = Sequential()\n",
        "model.add(L.InputLayer([None], dtype='int32'))\n",
        "# embeddings layer\n",
        "model.add(L.Embedding(len(vocab_tokens), 20))\n",
        "\n",
        "# gru layer\n",
        "model.add(L.GRU(128, return_sequences=True, activation='tanh'))\n",
        "model.add(L.Dropout(0.5))\n",
        "model.add(L.BatchNormalization())\n",
        "\n",
        "\n",
        "# apply softmax\n",
        "model.add(L.TimeDistributed(L.Dense(len(vocab_tokens), activation='softmax')))\n",
        "\n",
        "model.summary()"
      ],
      "execution_count": 461,
      "outputs": [
        {
          "output_type": "stream",
          "text": [
            "_________________________________________________________________\n",
            "Layer (type)                 Output Shape              Param #   \n",
            "=================================================================\n",
            "input_21 (InputLayer)        (None, None)              0         \n",
            "_________________________________________________________________\n",
            "embedding_21 (Embedding)     (None, None, 20)          580       \n",
            "_________________________________________________________________\n",
            "gru_29 (GRU)                 (None, None, 128)         57216     \n",
            "_________________________________________________________________\n",
            "dropout_29 (Dropout)         (None, None, 128)         0         \n",
            "_________________________________________________________________\n",
            "batch_normalization_29 (Batc (None, None, 128)         512       \n",
            "_________________________________________________________________\n",
            "time_distributed_21 (TimeDis (None, None, 29)          3741      \n",
            "=================================================================\n",
            "Total params: 62,049\n",
            "Trainable params: 61,793\n",
            "Non-trainable params: 256\n",
            "_________________________________________________________________\n"
          ],
          "name": "stdout"
        }
      ]
    },
    {
      "metadata": {
        "id": "G-J3u8xyX2JO",
        "colab_type": "code",
        "colab": {
          "autoexec": {
            "startup": false,
            "wait_interval": 0
          },
          "base_uri": "https://localhost:8080/",
          "height": 9508
        },
        "outputId": "edf98b18-157a-4b0b-d678-7250b4234b5a",
        "executionInfo": {
          "status": "ok",
          "timestamp": 1530254127879,
          "user_tz": -330,
          "elapsed": 81775,
          "user": {
            "displayName": "Susanta Biswas",
            "photoUrl": "//lh4.googleusercontent.com/-yoEv-8bwEKc/AAAAAAAAAAI/AAAAAAAAAAo/EHyV9CKwDzY/s50-c-k-no/photo.jpg",
            "userId": "101556937833327431006"
          }
        }
      },
      "cell_type": "code",
      "source": [
        "BATCH_SIZE = 256\n",
        "\n",
        "# select optimizer\n",
        "optimizer = keras.optimizers.Adam(clipvalue=1.2)\n",
        "model.compile(optimizer, loss='categorical_crossentropy', metrics=['accuracy'])\n",
        "\n",
        "# train model\n",
        "hist = model.fit_generator(generate_model_batches(train_data, batch_size=BATCH_SIZE), steps_per_epoch=len(train_data)/BATCH_SIZE,\n",
        "                          callbacks=[acc_callback, checkpoint], epochs=100)"
      ],
      "execution_count": 462,
      "outputs": [
        {
          "output_type": "stream",
          "text": [
            "Epoch 1/100\n",
            "16/15 [===============================] - 6s 354ms/step - loss: 2.8621 - acc: 0.2947\n",
            "205/205 [==============================] - 2s 9ms/step\n",
            "\n",
            "Validation Accuracy: 8.10580204778157 %\n",
            "Epoch 2/100\n",
            " 3/15 [====>.........................] - ETA: 0s - loss: 2.2915 - acc: 0.4534"
          ],
          "name": "stdout"
        },
        {
          "output_type": "stream",
          "text": [
            "/usr/local/lib/python3.6/dist-packages/keras/callbacks.py:435: RuntimeWarning: Can save best model only with val_loss available, skipping.\n",
            "  'skipping.' % (self.monitor), RuntimeWarning)\n"
          ],
          "name": "stderr"
        },
        {
          "output_type": "stream",
          "text": [
            "16/15 [===============================] - 1s 43ms/step - loss: 2.1473 - acc: 0.4762\n",
            "205/205 [==============================] - 0s 47us/step\n",
            "\n",
            "Validation Accuracy: 16.040955631399317 %\n",
            "Epoch 3/100\n",
            "16/15 [===============================] - 1s 44ms/step - loss: 1.7844 - acc: 0.5541\n",
            "205/205 [==============================] - 0s 65us/step\n",
            "\n",
            "Validation Accuracy: 26.27986348122867 %\n",
            "Epoch 4/100\n",
            "16/15 [===============================] - 1s 44ms/step - loss: 1.5677 - acc: 0.6022\n",
            "205/205 [==============================] - 0s 50us/step\n",
            "\n",
            "Validation Accuracy: 34.38566552901024 %\n",
            "Epoch 5/100\n",
            "16/15 [===============================] - 1s 44ms/step - loss: 1.4266 - acc: 0.6233\n",
            "205/205 [==============================] - 0s 50us/step\n",
            "\n",
            "Validation Accuracy: 32.67918088737201 %\n",
            "Epoch 6/100\n",
            "16/15 [===============================] - 1s 43ms/step - loss: 1.3492 - acc: 0.6304\n",
            "205/205 [==============================] - 0s 62us/step\n",
            "\n",
            "Validation Accuracy: 33.36177474402731 %\n",
            "Epoch 7/100\n",
            "16/15 [===============================] - 1s 80ms/step - loss: 1.3219 - acc: 0.6292\n",
            "205/205 [==============================] - 0s 69us/step\n",
            "\n",
            "Validation Accuracy: 35.06825938566553 %\n",
            "Epoch 8/100\n",
            "16/15 [===============================] - 1s 43ms/step - loss: 1.2864 - acc: 0.6360\n",
            "205/205 [==============================] - 0s 48us/step\n",
            "\n",
            "Validation Accuracy: 34.470989761092156 %\n",
            "Epoch 9/100\n",
            "16/15 [===============================] - 1s 44ms/step - loss: 1.2706 - acc: 0.6342\n",
            "205/205 [==============================] - 0s 56us/step\n",
            "\n",
            "Validation Accuracy: 34.38566552901024 %\n",
            "Epoch 10/100\n",
            "16/15 [===============================] - 1s 44ms/step - loss: 1.2470 - acc: 0.6387\n",
            "205/205 [==============================] - 0s 51us/step\n",
            "\n",
            "Validation Accuracy: 35.580204778157 %\n",
            "Epoch 11/100\n",
            " 6/15 [==========>...................] - ETA: 0s - loss: 1.2495 - acc: 0.6373"
          ],
          "name": "stdout"
        },
        {
          "output_type": "stream",
          "text": [
            "16/15 [===============================] - 1s 44ms/step - loss: 1.2381 - acc: 0.6356\n",
            "205/205 [==============================] - 0s 63us/step\n",
            "\n",
            "Validation Accuracy: 34.8122866894198 %\n",
            "Epoch 12/100\n",
            "16/15 [===============================] - 1s 44ms/step - loss: 1.2230 - acc: 0.6374\n",
            "205/205 [==============================] - 0s 67us/step\n",
            "\n",
            "Validation Accuracy: 36.177474402730375 %\n",
            "Epoch 13/100\n",
            "16/15 [===============================] - 1s 42ms/step - loss: 1.2130 - acc: 0.6405\n",
            "205/205 [==============================] - 0s 53us/step\n",
            "\n",
            "Validation Accuracy: 35.665529010238906 %\n",
            "Epoch 14/100\n",
            "16/15 [===============================] - 1s 44ms/step - loss: 1.2066 - acc: 0.6394\n",
            "205/205 [==============================] - 0s 55us/step\n",
            "\n",
            "Validation Accuracy: 35.92150170648464 %\n",
            "Epoch 15/100\n",
            "16/15 [===============================] - 1s 43ms/step - loss: 1.1953 - acc: 0.6424\n",
            "205/205 [==============================] - 0s 54us/step\n",
            "\n",
            "Validation Accuracy: 36.092150170648466 %\n",
            "Epoch 16/100\n",
            "16/15 [===============================] - 1s 44ms/step - loss: 1.2017 - acc: 0.6392\n",
            "205/205 [==============================] - 0s 62us/step\n",
            "\n",
            "Validation Accuracy: 35.83617747440273 %\n",
            "Epoch 17/100\n",
            "16/15 [===============================] - 1s 44ms/step - loss: 1.1822 - acc: 0.6454\n",
            "205/205 [==============================] - 0s 49us/step\n",
            "\n",
            "Validation Accuracy: 35.665529010238906 %\n",
            "Epoch 18/100\n",
            "16/15 [===============================] - 1s 42ms/step - loss: 1.1922 - acc: 0.6380\n",
            "205/205 [==============================] - 0s 57us/step\n",
            "\n",
            "Validation Accuracy: 35.23890784982935 %\n",
            "Epoch 19/100\n",
            "16/15 [===============================] - 1s 42ms/step - loss: 1.1874 - acc: 0.6382\n",
            "205/205 [==============================] - 0s 59us/step\n",
            "\n",
            "Validation Accuracy: 35.580204778157 %\n",
            "Epoch 20/100\n",
            " 9/15 [================>.............] - ETA: 0s - loss: 1.1662 - acc: 0.6456"
          ],
          "name": "stdout"
        },
        {
          "output_type": "stream",
          "text": [
            "16/15 [===============================] - 1s 44ms/step - loss: 1.1796 - acc: 0.6402\n",
            "205/205 [==============================] - 0s 60us/step\n",
            "\n",
            "Validation Accuracy: 36.262798634812285 %\n",
            "Epoch 21/100\n",
            "16/15 [===============================] - 1s 43ms/step - loss: 1.1563 - acc: 0.6484\n",
            "205/205 [==============================] - 0s 49us/step\n",
            "\n",
            "Validation Accuracy: 34.641638225255974 %\n",
            "Epoch 22/100\n",
            "16/15 [===============================] - 1s 45ms/step - loss: 1.1724 - acc: 0.6409\n",
            "205/205 [==============================] - 0s 53us/step\n",
            "\n",
            "Validation Accuracy: 36.177474402730375 %\n",
            "Epoch 23/100\n",
            "16/15 [===============================] - 1s 43ms/step - loss: 1.1566 - acc: 0.6465\n",
            "205/205 [==============================] - 0s 48us/step\n",
            "\n",
            "Validation Accuracy: 35.49488054607509 %\n",
            "Epoch 24/100\n",
            "16/15 [===============================] - 1s 43ms/step - loss: 1.1488 - acc: 0.6492\n",
            "205/205 [==============================] - 0s 63us/step\n",
            "\n",
            "Validation Accuracy: 35.153583617747444 %\n",
            "Epoch 25/100\n",
            "16/15 [===============================] - 1s 44ms/step - loss: 1.1578 - acc: 0.6438\n",
            "205/205 [==============================] - 0s 58us/step\n",
            "\n",
            "Validation Accuracy: 35.750853242320815 %\n",
            "Epoch 26/100\n",
            "16/15 [===============================] - 1s 44ms/step - loss: 1.1415 - acc: 0.6498\n",
            "205/205 [==============================] - 0s 64us/step\n",
            "\n",
            "Validation Accuracy: 35.49488054607509 %\n",
            "Epoch 27/100\n",
            "16/15 [===============================] - 1s 42ms/step - loss: 1.1558 - acc: 0.6439\n",
            "205/205 [==============================] - 0s 59us/step\n",
            "\n",
            "Validation Accuracy: 36.00682593856656 %\n",
            "Epoch 28/100\n",
            "16/15 [===============================] - 1s 44ms/step - loss: 1.1395 - acc: 0.6490\n",
            "205/205 [==============================] - 0s 56us/step\n",
            "\n",
            "Validation Accuracy: 33.70307167235495 %\n",
            "Epoch 29/100\n",
            " 9/15 [================>.............] - ETA: 0s - loss: 1.1290 - acc: 0.6514"
          ],
          "name": "stdout"
        },
        {
          "output_type": "stream",
          "text": [
            "16/15 [===============================] - 1s 43ms/step - loss: 1.1430 - acc: 0.6473\n",
            "205/205 [==============================] - 0s 57us/step\n",
            "\n",
            "Validation Accuracy: 34.98293515358362 %\n",
            "Epoch 30/100\n",
            "16/15 [===============================] - 1s 43ms/step - loss: 1.1433 - acc: 0.6462\n",
            "205/205 [==============================] - 0s 56us/step\n",
            "\n",
            "Validation Accuracy: 34.8122866894198 %\n",
            "Epoch 31/100\n",
            "16/15 [===============================] - 1s 44ms/step - loss: 1.1254 - acc: 0.6513\n",
            "205/205 [==============================] - 0s 65us/step\n",
            "\n",
            "Validation Accuracy: 32.508532423208194 %\n",
            "Epoch 32/100\n",
            "16/15 [===============================] - 1s 43ms/step - loss: 1.1255 - acc: 0.6501\n",
            "205/205 [==============================] - 0s 51us/step\n",
            "\n",
            "Validation Accuracy: 34.55631399317406 %\n",
            "Epoch 33/100\n",
            "16/15 [===============================] - 1s 43ms/step - loss: 1.1404 - acc: 0.6467\n",
            "205/205 [==============================] - 0s 59us/step\n",
            "\n",
            "Validation Accuracy: 34.8976109215017 %\n",
            "Epoch 34/100\n",
            "16/15 [===============================] - 1s 44ms/step - loss: 1.1111 - acc: 0.6555\n",
            "205/205 [==============================] - 0s 48us/step\n",
            "\n",
            "Validation Accuracy: 33.020477815699664 %\n",
            "Epoch 35/100\n",
            "16/15 [===============================] - 1s 43ms/step - loss: 1.1379 - acc: 0.6456\n",
            "205/205 [==============================] - 0s 47us/step\n",
            "\n",
            "Validation Accuracy: 34.129692832764505 %\n",
            "Epoch 36/100\n",
            "16/15 [===============================] - 1s 42ms/step - loss: 1.1300 - acc: 0.6486\n",
            "205/205 [==============================] - 0s 55us/step\n",
            "\n",
            "Validation Accuracy: 33.617747440273035 %\n",
            "Epoch 37/100\n",
            "16/15 [===============================] - 1s 43ms/step - loss: 1.1250 - acc: 0.6505\n",
            "205/205 [==============================] - 0s 60us/step\n",
            "\n",
            "Validation Accuracy: 33.95904436860068 %\n",
            "Epoch 38/100\n",
            " 6/15 [==========>...................] - ETA: 0s - loss: 1.1269 - acc: 0.6500"
          ],
          "name": "stdout"
        },
        {
          "output_type": "stream",
          "text": [
            "16/15 [===============================] - 1s 44ms/step - loss: 1.1308 - acc: 0.6485\n",
            "205/205 [==============================] - 0s 54us/step\n",
            "\n",
            "Validation Accuracy: 32.84982935153584 %\n",
            "Epoch 39/100\n",
            "16/15 [===============================] - 1s 44ms/step - loss: 1.1182 - acc: 0.6517\n",
            "205/205 [==============================] - 0s 52us/step\n",
            "\n",
            "Validation Accuracy: 34.129692832764505 %\n",
            "Epoch 40/100\n",
            "16/15 [===============================] - 1s 45ms/step - loss: 1.1367 - acc: 0.6482\n",
            "205/205 [==============================] - 0s 58us/step\n",
            "\n",
            "Validation Accuracy: 32.93515358361775 %\n",
            "Epoch 41/100\n",
            "16/15 [===============================] - 1s 43ms/step - loss: 1.1356 - acc: 0.6452\n",
            "205/205 [==============================] - 0s 58us/step\n",
            "\n",
            "Validation Accuracy: 35.665529010238906 %\n",
            "Epoch 42/100\n",
            "16/15 [===============================] - 1s 43ms/step - loss: 1.1257 - acc: 0.6502\n",
            "205/205 [==============================] - 0s 58us/step\n",
            "\n",
            "Validation Accuracy: 33.70307167235495 %\n",
            "Epoch 43/100\n",
            "16/15 [===============================] - 1s 43ms/step - loss: 1.1253 - acc: 0.6484\n",
            "205/205 [==============================] - 0s 56us/step\n",
            "\n",
            "Validation Accuracy: 31.48464163822526 %\n",
            "Epoch 44/100\n",
            "16/15 [===============================] - 1s 45ms/step - loss: 1.1283 - acc: 0.6493\n",
            "205/205 [==============================] - 0s 69us/step\n",
            "\n",
            "Validation Accuracy: 33.36177474402731 %\n",
            "Epoch 45/100\n",
            "16/15 [===============================] - 1s 44ms/step - loss: 1.1072 - acc: 0.6542\n",
            "205/205 [==============================] - 0s 63us/step\n",
            "\n",
            "Validation Accuracy: 35.23890784982935 %\n",
            "Epoch 46/100\n",
            "16/15 [===============================] - 1s 45ms/step - loss: 1.1288 - acc: 0.6481\n",
            "205/205 [==============================] - 0s 62us/step\n",
            "\n",
            "Validation Accuracy: 35.40955631399317 %\n",
            "Epoch 47/100\n",
            " 1/15 [>.............................] - ETA: 0s - loss: 1.0941 - acc: 0.6641"
          ],
          "name": "stdout"
        },
        {
          "output_type": "stream",
          "text": [
            "16/15 [===============================] - 1s 43ms/step - loss: 1.1010 - acc: 0.6571\n",
            "205/205 [==============================] - 0s 53us/step\n",
            "\n",
            "Validation Accuracy: 34.470989761092156 %\n",
            "Epoch 48/100\n",
            "16/15 [===============================] - 1s 43ms/step - loss: 1.1144 - acc: 0.6514\n",
            "205/205 [==============================] - 0s 60us/step\n",
            "\n",
            "Validation Accuracy: 33.87372013651877 %\n",
            "Epoch 49/100\n",
            "16/15 [===============================] - 1s 44ms/step - loss: 1.1153 - acc: 0.6516\n",
            "205/205 [==============================] - 0s 57us/step\n",
            "\n",
            "Validation Accuracy: 33.44709897610921 %\n",
            "Epoch 50/100\n",
            "16/15 [===============================] - 1s 44ms/step - loss: 1.1143 - acc: 0.6529\n",
            "205/205 [==============================] - 0s 63us/step\n",
            "\n",
            "Validation Accuracy: 32.76450511945392 %\n",
            "Epoch 51/100\n",
            "16/15 [===============================] - 1s 44ms/step - loss: 1.1092 - acc: 0.6521\n",
            "205/205 [==============================] - 0s 55us/step\n",
            "\n",
            "Validation Accuracy: 35.32423208191126 %\n",
            "Epoch 52/100\n",
            "16/15 [===============================] - 1s 44ms/step - loss: 1.1080 - acc: 0.6532\n",
            "205/205 [==============================] - 0s 63us/step\n",
            "\n",
            "Validation Accuracy: 34.8122866894198 %\n",
            "Epoch 53/100\n",
            "16/15 [===============================] - 1s 44ms/step - loss: 1.1020 - acc: 0.6558\n",
            "205/205 [==============================] - 0s 61us/step\n",
            "\n",
            "Validation Accuracy: 35.40955631399317 %\n",
            "Epoch 54/100\n",
            "16/15 [===============================] - 1s 43ms/step - loss: 1.1192 - acc: 0.6515\n",
            "205/205 [==============================] - 0s 59us/step\n",
            "\n",
            "Validation Accuracy: 35.153583617747444 %\n",
            "Epoch 55/100\n",
            "16/15 [===============================] - 1s 42ms/step - loss: 1.1168 - acc: 0.6531\n",
            "205/205 [==============================] - 0s 60us/step\n",
            "\n",
            "Validation Accuracy: 34.8122866894198 %\n",
            "Epoch 56/100\n",
            " 6/15 [==========>...................] - ETA: 0s - loss: 1.0868 - acc: 0.6590"
          ],
          "name": "stdout"
        },
        {
          "output_type": "stream",
          "text": [
            "16/15 [===============================] - 1s 43ms/step - loss: 1.1081 - acc: 0.6529\n",
            "205/205 [==============================] - 0s 59us/step\n",
            "\n",
            "Validation Accuracy: 33.44709897610921 %\n",
            "Epoch 57/100\n",
            "16/15 [===============================] - 1s 44ms/step - loss: 1.1011 - acc: 0.6559\n",
            "205/205 [==============================] - 0s 57us/step\n",
            "\n",
            "Validation Accuracy: 34.641638225255974 %\n",
            "Epoch 58/100\n",
            "16/15 [===============================] - 1s 45ms/step - loss: 1.0973 - acc: 0.6569\n",
            "205/205 [==============================] - 0s 59us/step\n",
            "\n",
            "Validation Accuracy: 33.87372013651877 %\n",
            "Epoch 59/100\n",
            "16/15 [===============================] - 1s 44ms/step - loss: 1.1052 - acc: 0.6552\n",
            "205/205 [==============================] - 0s 59us/step\n",
            "\n",
            "Validation Accuracy: 35.06825938566553 %\n",
            "Epoch 60/100\n",
            "16/15 [===============================] - 1s 44ms/step - loss: 1.1014 - acc: 0.6566\n",
            "205/205 [==============================] - 0s 51us/step\n",
            "\n",
            "Validation Accuracy: 35.580204778157 %\n",
            "Epoch 61/100\n",
            "16/15 [===============================] - 1s 43ms/step - loss: 1.1299 - acc: 0.6460\n",
            "205/205 [==============================] - 0s 57us/step\n",
            "\n",
            "Validation Accuracy: 36.262798634812285 %\n",
            "Epoch 62/100\n",
            "16/15 [===============================] - 1s 44ms/step - loss: 1.1218 - acc: 0.6487\n",
            "205/205 [==============================] - 0s 51us/step\n",
            "\n",
            "Validation Accuracy: 37.116040955631405 %\n",
            "Epoch 63/100\n",
            "16/15 [===============================] - 1s 44ms/step - loss: 1.1033 - acc: 0.6543\n",
            "205/205 [==============================] - 0s 49us/step\n",
            "\n",
            "Validation Accuracy: 35.665529010238906 %\n",
            "Epoch 64/100\n",
            "16/15 [===============================] - 1s 45ms/step - loss: 1.0976 - acc: 0.6563\n",
            "205/205 [==============================] - 0s 49us/step\n",
            "\n",
            "Validation Accuracy: 32.84982935153584 %\n",
            "Epoch 65/100\n",
            " 5/15 [========>.....................] - ETA: 0s - loss: 1.0633 - acc: 0.6690"
          ],
          "name": "stdout"
        },
        {
          "output_type": "stream",
          "text": [
            "16/15 [===============================] - 1s 44ms/step - loss: 1.0738 - acc: 0.6628\n",
            "205/205 [==============================] - 0s 59us/step\n",
            "\n",
            "Validation Accuracy: 32.25255972696246 %\n",
            "Epoch 66/100\n",
            "16/15 [===============================] - 1s 43ms/step - loss: 1.1056 - acc: 0.6524\n",
            "205/205 [==============================] - 0s 50us/step\n",
            "\n",
            "Validation Accuracy: 34.38566552901024 %\n",
            "Epoch 67/100\n",
            "16/15 [===============================] - 1s 44ms/step - loss: 1.0910 - acc: 0.6598\n",
            "205/205 [==============================] - 0s 49us/step\n",
            "\n",
            "Validation Accuracy: 34.470989761092156 %\n",
            "Epoch 68/100\n",
            "16/15 [===============================] - 1s 45ms/step - loss: 1.1125 - acc: 0.6541\n",
            "205/205 [==============================] - 0s 51us/step\n",
            "\n",
            "Validation Accuracy: 34.8976109215017 %\n",
            "Epoch 69/100\n",
            "16/15 [===============================] - 1s 45ms/step - loss: 1.0953 - acc: 0.6577\n",
            "205/205 [==============================] - 0s 59us/step\n",
            "\n",
            "Validation Accuracy: 35.23890784982935 %\n",
            "Epoch 70/100\n",
            "16/15 [===============================] - 1s 44ms/step - loss: 1.0937 - acc: 0.6561\n",
            "205/205 [==============================] - 0s 61us/step\n",
            "\n",
            "Validation Accuracy: 34.38566552901024 %\n",
            "Epoch 71/100\n",
            "16/15 [===============================] - 1s 44ms/step - loss: 1.0978 - acc: 0.6560\n",
            "205/205 [==============================] - 0s 59us/step\n",
            "\n",
            "Validation Accuracy: 33.532423208191126 %\n",
            "Epoch 72/100\n",
            "16/15 [===============================] - 1s 43ms/step - loss: 1.0876 - acc: 0.6595\n",
            "205/205 [==============================] - 0s 59us/step\n",
            "\n",
            "Validation Accuracy: 33.532423208191126 %\n",
            "Epoch 73/100\n",
            "16/15 [===============================] - 1s 46ms/step - loss: 1.0914 - acc: 0.6586\n",
            "205/205 [==============================] - 0s 63us/step\n",
            "\n",
            "Validation Accuracy: 33.87372013651877 %\n",
            "Epoch 74/100\n",
            " 6/15 [==========>...................] - ETA: 0s - loss: 1.0556 - acc: 0.6676"
          ],
          "name": "stdout"
        },
        {
          "output_type": "stream",
          "text": [
            "16/15 [===============================] - 1s 44ms/step - loss: 1.0818 - acc: 0.6617\n",
            "205/205 [==============================] - 0s 52us/step\n",
            "\n",
            "Validation Accuracy: 34.55631399317406 %\n",
            "Epoch 75/100\n",
            "16/15 [===============================] - 1s 43ms/step - loss: 1.0957 - acc: 0.6578\n",
            "205/205 [==============================] - 0s 59us/step\n",
            "\n",
            "Validation Accuracy: 34.8976109215017 %\n",
            "Epoch 76/100\n",
            "16/15 [===============================] - 1s 43ms/step - loss: 1.1071 - acc: 0.6524\n",
            "205/205 [==============================] - 0s 70us/step\n",
            "\n",
            "Validation Accuracy: 34.98293515358362 %\n",
            "Epoch 77/100\n",
            "16/15 [===============================] - 1s 44ms/step - loss: 1.0855 - acc: 0.6617\n",
            "205/205 [==============================] - 0s 61us/step\n",
            "\n",
            "Validation Accuracy: 34.98293515358362 %\n",
            "Epoch 78/100\n",
            "16/15 [===============================] - 1s 44ms/step - loss: 1.1152 - acc: 0.6494\n",
            "205/205 [==============================] - 0s 60us/step\n",
            "\n",
            "Validation Accuracy: 34.55631399317406 %\n",
            "Epoch 79/100\n",
            "16/15 [===============================] - 1s 44ms/step - loss: 1.0942 - acc: 0.6567\n",
            "205/205 [==============================] - 0s 50us/step\n",
            "\n",
            "Validation Accuracy: 33.44709897610921 %\n",
            "Epoch 80/100\n",
            "16/15 [===============================] - 1s 44ms/step - loss: 1.0762 - acc: 0.6635\n",
            "205/205 [==============================] - 0s 64us/step\n",
            "\n",
            "Validation Accuracy: 31.569965870307165 %\n",
            "Epoch 81/100\n",
            "16/15 [===============================] - 1s 45ms/step - loss: 1.0998 - acc: 0.6544\n",
            "205/205 [==============================] - 0s 56us/step\n",
            "\n",
            "Validation Accuracy: 32.67918088737201 %\n",
            "Epoch 82/100\n",
            "16/15 [===============================] - 1s 44ms/step - loss: 1.0969 - acc: 0.6545\n",
            "205/205 [==============================] - 0s 69us/step\n",
            "\n",
            "Validation Accuracy: 33.95904436860068 %\n",
            "Epoch 83/100\n",
            " 3/15 [====>.........................] - ETA: 0s - loss: 1.0946 - acc: 0.6582"
          ],
          "name": "stdout"
        },
        {
          "output_type": "stream",
          "text": [
            "16/15 [===============================] - 1s 44ms/step - loss: 1.0940 - acc: 0.6572\n",
            "205/205 [==============================] - 0s 51us/step\n",
            "\n",
            "Validation Accuracy: 34.470989761092156 %\n",
            "Epoch 84/100\n",
            "16/15 [===============================] - 1s 44ms/step - loss: 1.0720 - acc: 0.6632\n",
            "205/205 [==============================] - 0s 51us/step\n",
            "\n",
            "Validation Accuracy: 33.44709897610921 %\n",
            "Epoch 85/100\n",
            "16/15 [===============================] - 1s 44ms/step - loss: 1.0803 - acc: 0.6592\n",
            "205/205 [==============================] - 0s 60us/step\n",
            "\n",
            "Validation Accuracy: 32.081911262798634 %\n",
            "Epoch 86/100\n",
            "16/15 [===============================] - 1s 44ms/step - loss: 1.0686 - acc: 0.6646\n",
            "205/205 [==============================] - 0s 61us/step\n",
            "\n",
            "Validation Accuracy: 32.76450511945392 %\n",
            "Epoch 87/100\n",
            "16/15 [===============================] - 1s 43ms/step - loss: 1.0950 - acc: 0.6563\n",
            "205/205 [==============================] - 0s 64us/step\n",
            "\n",
            "Validation Accuracy: 34.8122866894198 %\n",
            "Epoch 88/100\n",
            "16/15 [===============================] - 1s 44ms/step - loss: 1.0841 - acc: 0.6616\n",
            "205/205 [==============================] - 0s 61us/step\n",
            "\n",
            "Validation Accuracy: 35.92150170648464 %\n",
            "Epoch 89/100\n",
            "16/15 [===============================] - 1s 43ms/step - loss: 1.0829 - acc: 0.6605\n",
            "205/205 [==============================] - 0s 63us/step\n",
            "\n",
            "Validation Accuracy: 33.19112627986348 %\n",
            "Epoch 90/100\n",
            "16/15 [===============================] - 1s 44ms/step - loss: 1.0578 - acc: 0.6681\n",
            "205/205 [==============================] - 0s 52us/step\n",
            "\n",
            "Validation Accuracy: 34.215017064846414 %\n",
            "Epoch 91/100\n",
            "16/15 [===============================] - 1s 43ms/step - loss: 1.0912 - acc: 0.6561\n",
            "205/205 [==============================] - 0s 55us/step\n",
            "\n",
            "Validation Accuracy: 35.23890784982935 %\n",
            "Epoch 92/100\n",
            " 4/15 [======>.......................] - ETA: 0s - loss: 1.0655 - acc: 0.6644"
          ],
          "name": "stdout"
        },
        {
          "output_type": "stream",
          "text": [
            "16/15 [===============================] - 1s 44ms/step - loss: 1.0668 - acc: 0.6655\n",
            "205/205 [==============================] - 0s 56us/step\n",
            "\n",
            "Validation Accuracy: 34.8976109215017 %\n",
            "Epoch 93/100\n",
            "16/15 [===============================] - 1s 42ms/step - loss: 1.0957 - acc: 0.6565\n",
            "205/205 [==============================] - 0s 61us/step\n",
            "\n",
            "Validation Accuracy: 35.83617747440273 %\n",
            "Epoch 94/100\n",
            "16/15 [===============================] - 1s 44ms/step - loss: 1.0966 - acc: 0.6551\n",
            "205/205 [==============================] - 0s 60us/step\n",
            "\n",
            "Validation Accuracy: 35.665529010238906 %\n",
            "Epoch 95/100\n",
            "16/15 [===============================] - 1s 45ms/step - loss: 1.0681 - acc: 0.6641\n",
            "205/205 [==============================] - 0s 64us/step\n",
            "\n",
            "Validation Accuracy: 33.87372013651877 %\n",
            "Epoch 96/100\n",
            "16/15 [===============================] - 1s 44ms/step - loss: 1.0560 - acc: 0.6659\n",
            "205/205 [==============================] - 0s 52us/step\n",
            "\n",
            "Validation Accuracy: 34.129692832764505 %\n",
            "Epoch 97/100\n",
            "16/15 [===============================] - 1s 45ms/step - loss: 1.0822 - acc: 0.6591\n",
            "205/205 [==============================] - 0s 60us/step\n",
            "\n",
            "Validation Accuracy: 34.8976109215017 %\n",
            "Epoch 98/100\n",
            "16/15 [===============================] - 1s 44ms/step - loss: 1.0805 - acc: 0.6598\n",
            "205/205 [==============================] - 0s 64us/step\n",
            "\n",
            "Validation Accuracy: 35.665529010238906 %\n",
            "Epoch 99/100\n",
            "16/15 [===============================] - 1s 44ms/step - loss: 1.0732 - acc: 0.6622\n",
            "205/205 [==============================] - 0s 51us/step\n",
            "\n",
            "Validation Accuracy: 35.153583617747444 %\n",
            "Epoch 100/100\n",
            "16/15 [===============================] - 1s 45ms/step - loss: 1.0730 - acc: 0.6610\n",
            "205/205 [==============================] - 0s 62us/step\n",
            "\n",
            "Validation Accuracy: 36.43344709897611 %\n"
          ],
          "name": "stdout"
        }
      ]
    },
    {
      "metadata": {
        "id": "PR7vTNjek_76",
        "colab_type": "code",
        "colab": {
          "autoexec": {
            "startup": false,
            "wait_interval": 0
          }
        }
      },
      "cell_type": "code",
      "source": [
        "# save model \n",
        "model.save('drive/Colab Notebooks/model.h5')\n",
        "model.save_weights('drive/Colab Notebooks/weights.h5')"
      ],
      "execution_count": 0,
      "outputs": []
    },
    {
      "metadata": {
        "id": "U2QLbwF589Vi",
        "colab_type": "code",
        "colab": {
          "autoexec": {
            "startup": false,
            "wait_interval": 0
          },
          "base_uri": "https://localhost:8080/",
          "height": 695
        },
        "outputId": "25542328-f093-463d-9ab2-3fae4d02e0db",
        "executionInfo": {
          "status": "ok",
          "timestamp": 1530254137948,
          "user_tz": -330,
          "elapsed": 1849,
          "user": {
            "displayName": "Susanta Biswas",
            "photoUrl": "//lh4.googleusercontent.com/-yoEv-8bwEKc/AAAAAAAAAAI/AAAAAAAAAAo/EHyV9CKwDzY/s50-c-k-no/photo.jpg",
            "userId": "101556937833327431006"
          }
        }
      },
      "cell_type": "code",
      "source": [
        "# loss plot\n",
        "plt.figure(figsize=(16,5))\n",
        "plt.subplot(1,1,1)\n",
        "plt.suptitle('Optimizer: Adam', fontsize=10)\n",
        "plt.ylabel('Loss', fontsize=16)\n",
        "plt.plot(hist.history['loss'], color='b', label='Training Loss')\n",
        "plt.legend(loc='upper right')\n",
        "plt.savefig('drive/Colab Notebooks/loss.png')\n",
        "\n",
        "# acc plot\n",
        "plt.figure(figsize=(16,5))\n",
        "plt.subplot(1,1,1)\n",
        "plt.suptitle('Optimizer: Adam', fontsize=10)\n",
        "plt.ylabel('Accuracy', fontsize=16)\n",
        "plt.plot(hist.history['acc'], color='b', label='Training Loss')\n",
        "plt.legend(loc='lower right')\n",
        "\n",
        "plt.savefig('drive/Colab Notebooks/acc.png')\n",
        "plt.show()"
      ],
      "execution_count": 464,
      "outputs": [
        {
          "output_type": "display_data",
          "data": {
            "image/png": "[encoded data removed]",
            "text/plain": [
              "<matplotlib.figure.Figure at 0x7f2ea5ca8ef0>"
            ]
          },
          "metadata": {
            "tags": []
          }
        },
        {
          "output_type": "display_data",
          "data": {
            "image/png": "[encoded data removed]",
            "text/plain": [
              "<matplotlib.figure.Figure at 0x7f2ea83d59b0>"
            ]
          },
          "metadata": {
            "tags": []
          }
        }
      ]
    },
    {
      "metadata": {
        "id": "WNf_RoyhAXi_",
        "colab_type": "text"
      },
      "cell_type": "markdown",
      "source": [
        "## Sample Text"
      ]
    },
    {
      "metadata": {
        "id": "IuXgLuN4Aexw",
        "colab_type": "code",
        "colab": {
          "autoexec": {
            "startup": false,
            "wait_interval": 0
          }
        }
      },
      "cell_type": "code",
      "source": [
        "# samples text from language model\n",
        "def sample_text(seed_phrase='a', max_length=max_name_len):\n",
        "  \n",
        "            \n",
        "    # input x to numerical index\n",
        "    text_x = to_num_matrix(list(list(seed_phrase)), ch_to_idx)\n",
        "    # index of current character\n",
        "    ch = ch_to_idx[seed_phrase]\n",
        "    \n",
        "    # list of predicted character indices\n",
        "    indices = []\n",
        "    # counter\n",
        "    i = 0\n",
        "    \n",
        "    #start generating\n",
        "    while ch != 0 and i<max_length:\n",
        "        # predict using the input character\n",
        "        pred = model.predict(text_x)[0]\n",
        "        \n",
        "        # get the char with highest prob.\n",
        "        ch = np.random.choice(np.arange(len(vocab_tokens)) , p = pred.ravel())\n",
        "        \n",
        "        if ch!=0:\n",
        "            indices.append(ch)\n",
        "        \n",
        "        # feed the current char as the next input\n",
        "        text_x = to_num_matrix(list(list(idx_to_ch[ch])), ch_to_idx)\n",
        "        \n",
        "        i = i+ 1\n",
        "    \n",
        "    \n",
        "    return ''.join([idx_to_ch[idx] for idx in indices])"
      ],
      "execution_count": 0,
      "outputs": []
    },
    {
      "metadata": {
        "id": "L24vXkEIP04D",
        "colab_type": "code",
        "colab": {
          "autoexec": {
            "startup": false,
            "wait_interval": 0
          },
          "base_uri": "https://localhost:8080/",
          "height": 206
        },
        "outputId": "f5cb4788-3828-4404-c965-e02f611e1e44",
        "executionInfo": {
          "status": "ok",
          "timestamp": 1530254173668,
          "user_tz": -330,
          "elapsed": 909,
          "user": {
            "displayName": "Susanta Biswas",
            "photoUrl": "//lh4.googleusercontent.com/-yoEv-8bwEKc/AAAAAAAAAAI/AAAAAAAAAAo/EHyV9CKwDzY/s50-c-k-no/photo.jpg",
            "userId": "101556937833327431006"
          }
        }
      },
      "cell_type": "code",
      "source": [
        "i = 0\n",
        "while i < 10:\n",
        "    name = sample_text(max_length=6)\n",
        "    if name != '':\n",
        "        print(name)\n",
        "        i += 1"
      ],
      "execution_count": 472,
      "outputs": [
        {
          "output_type": "stream",
          "text": [
            "rikata\n",
            "denesh\n",
            "nirami\n",
            "pobhes\n",
            "reeera\n",
            "prabak\n",
            "moodar\n",
            "janika\n",
            "fusuvm\n",
            "rukami\n"
          ],
          "name": "stdout"
        }
      ]
    }
  ]
}